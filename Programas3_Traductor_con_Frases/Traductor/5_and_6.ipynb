{
 "cells": [
  {
   "cell_type": "code",
   "execution_count": 11,
   "metadata": {},
   "outputs": [],
   "source": [
    "\n",
    "import tkinter as tk\n",
    "from tkinter import simpledialog, messagebox\n",
    "import csv\n",
    "import pandas as pd"
   ]
  },
  {
   "cell_type": "code",
   "execution_count": 12,
   "metadata": {},
   "outputs": [],
   "source": [
    "# Lectura de archivos y creación de diccionarios\n",
    "\n",
    "with open(\"./Español.txt\", \"r\", encoding=\"utf-8\") as archivo1:\n",
    "    contenido_archivo1 = archivo1.read().splitlines()\n",
    "with open(\"./Ingles.txt\", \"r\", encoding=\"utf-8\") as archivo2:\n",
    "    contenido_archivo2 = archivo2.read().splitlines()\n",
    "\n",
    "diccionario_espanol_ingles = {palabra.lower(): traduccion.lower() for palabra, traduccion in zip(contenido_archivo1, contenido_archivo2)}\n",
    "diccionario_ingles_espanol = {palabra.lower(): traduccion.lower() for palabra, traduccion in zip(contenido_archivo2, contenido_archivo1)}\n"
   ]
  },
  {
   "cell_type": "code",
   "execution_count": 13,
   "metadata": {},
   "outputs": [],
   "source": [
    "root = tk.Tk()\n",
    "root.title(\"Traductor\")\n",
    "root.geometry(\"350x200\")\n",
    "\n",
    "palabra_label = tk.Label(root, text=\"Oracion 1:\")\n",
    "palabra2_label = tk.Label(root, text=\"Oracion 2:\")\n",
    "palabra_entry = tk.Entry(root)\n",
    "palabra2_entry = tk.Entry(root)\n",
    "resultado_label = tk.Label(root, text=\"\")\n",
    "\n",
    "palabra_label.place(x=80, y=30)\n",
    "palabra2_label.place(x=80, y=50)\n",
    "palabra_entry.place(x=140, y=30)\n",
    "palabra2_entry.place(x=140, y=50)\n",
    "resultado_label.place(x=40, y=140)\n",
    "\n"
   ]
  },
  {
   "cell_type": "code",
   "execution_count": 14,
   "metadata": {},
   "outputs": [],
   "source": [
    "def agregar_etiqueta(palabra, idioma_origen, etiquetas):\n",
    "\n",
    "\n",
    "    if idioma_origen == 'español':\n",
    "        palabra_traducida = simpledialog.askstring(\"Entrada\", f\"Por favor, introduce la traducción en inglés para '{palabra}':\")\n",
    "        gramatica = simpledialog.askstring(\"Entrada\", f\"Por favor, introduce la etiqueta gramatical para '{palabra}':\")\n",
    "        etiquetas[palabra] = (palabra_traducida, gramatica)\n",
    "        etiquetas[palabra_traducida] = (palabra, gramatica)\n",
    "    else:\n",
    "        palabra_traducida = simpledialog.askstring(\"Entrada\", f\"Por favor, introduce la traducción en español para '{palabra}':\")\n",
    "        gramatica = simpledialog.askstring(\"Entrada\", f\"Por favor, introduce la etiqueta gramatical para '{palabra}':\")\n",
    "        etiquetas[palabra] = (palabra_traducida, gramatica)\n",
    "        etiquetas[palabra_traducida] = (palabra, gramatica)\n",
    "\n",
    "    with open('etiquetas.csv', 'a', newline='', encoding='utf-8') as csvfile:\n",
    "        writer = csv.writer(csvfile)\n",
    "        writer.writerow([palabra, palabra_traducida, gramatica])\n",
    "\n",
    "    return palabra_traducida, gramatica"
   ]
  },
  {
   "cell_type": "code",
   "execution_count": 15,
   "metadata": {},
   "outputs": [],
   "source": [
    "def buscar_regla_traducida(etiquetas_origen, idioma_origen):\n",
    "    \n",
    "    with open('resultados.csv', mode='r', newline='', encoding='utf-8') as file:\n",
    "        reader = csv.reader(file)\n",
    "        for row in reader:\n",
    "            \n",
    "            if idioma_origen == 'español':  \n",
    "                if row[0].strip().lower() == etiquetas_origen.strip().lower():\n",
    "                    return row[1] \n",
    "                \n",
    "            elif idioma_origen == 'ingles':\n",
    "                if row[1].strip().lower() == etiquetas_origen.strip().lower():\n",
    "                    return row[0]\n",
    "                    \n",
    "   "
   ]
  },
  {
   "cell_type": "code",
   "execution_count": 16,
   "metadata": {},
   "outputs": [],
   "source": [
    "etiquetas_dict = {}\n",
    "with open('etiquetas.csv', mode='r', encoding='utf-8') as file:\n",
    "    reader = csv.DictReader(file)\n",
    "    for row in reader:\n",
    "        etiquetas_dict[row['Español'].lower()] = {'traduccion': row['Ingles'], 'etiqueta': row['Etiqueta']}\n",
    "        etiquetas_dict[row['Ingles'].lower()] = {'traduccion': row['Español'], 'etiqueta': row['Etiqueta']}\n",
    "\n"
   ]
  },
  {
   "cell_type": "code",
   "execution_count": 17,
   "metadata": {},
   "outputs": [],
   "source": [
    "\n",
    "\n",
    "# Función para etiquetar una oración\n",
    "def etiquetar_oracion(oracion, etiquetas_dict):\n",
    "    palabras = oracion.split()\n",
    "    etiquetas = [etiquetas_dict.get(palabra.lower(), {'etiqueta': 'desconocido'})['etiqueta'] for palabra in palabras]\n",
    "    return ' '.join(etiquetas)\n",
    "\n",
    "# Función principal para procesar la oración ingresada\n",
    "def procesar_oracion(oracion, etiquetas_dict):\n",
    "    etiquetas = etiquetar_oracion(oracion, etiquetas_dict)\n",
    "    return etiquetas\n",
    "        "
   ]
  },
  {
   "cell_type": "code",
   "execution_count": 18,
   "metadata": {},
   "outputs": [],
   "source": [
    "# Función para construir la oración en el idioma destino\n",
    "\n",
    "def construir_oracion(oracion_origen, etiquetas_origen, etiquetas_destino, etiquetas_dict):\n",
    "    \n",
    "    palabras_origen = oracion_origen.split()\n",
    "    etiquetas_origen_list = etiquetas_origen.split()\n",
    "    oracion_destino = []\n",
    "\n",
    "    for etiqueta in etiquetas_destino.split():\n",
    "        for i, etiqueta_origen in enumerate(etiquetas_origen_list):\n",
    "            if etiqueta_origen == etiqueta:\n",
    "                palabra_destino = etiquetas_dict.get(palabras_origen[i].lower(), {'traduccion': palabras_origen[i]})['traduccion']\n",
    "                oracion_destino.append(palabra_destino)\n",
    "                break\n",
    "\n",
    "    return ' '.join(oracion_destino)"
   ]
  },
  {
   "cell_type": "code",
   "execution_count": 19,
   "metadata": {},
   "outputs": [],
   "source": [
    "# Función principal\n",
    "def traducir_palabra():\n",
    "\n",
    "    oracion = palabra_entry.get().lower()\n",
    "    oracion2 = palabra2_entry.get().lower()\n",
    "\n",
    "    palabras = oracion.split()\n",
    "    palabras2 = oracion2.split()\n",
    "\n",
    "    primera_palabra = palabras[0]\n",
    "\n",
    "    if primera_palabra in diccionario_espanol_ingles:\n",
    "        traduccion = diccionario_espanol_ingles[primera_palabra]\n",
    "        idioma_origen = 'español'\n",
    "    elif primera_palabra in diccionario_ingles_espanol:\n",
    "        traduccion = diccionario_ingles_espanol[primera_palabra]\n",
    "        idioma_origen = 'ingles'\n",
    "\n",
    "   \n",
    "        \n",
    "    print(f'Idioma Origen : {idioma_origen}')\n",
    "    etiquetas_origen = procesar_oracion(oracion, etiquetas_dict)\n",
    "\n",
    "    if not oracion2:\n",
    "        regla_gramatical = buscar_regla_traducida(etiquetas_origen, idioma_origen)\n",
    "    else:\n",
    "        regla_gramatical = procesar_oracion(oracion2, etiquetas_dict)\n",
    "        with open('resultados.csv', mode='a', newline='') as file:\n",
    "            writer = csv.writer(file)\n",
    "            writer.writerow([etiquetas_origen, regla_gramatical])\n",
    "\n",
    "    print(f'Regla Original: {etiquetas_origen} \\nRegla traducida: {regla_gramatical}\\n\\n')\n",
    "    \n",
    "   \n",
    "\n",
    "\n",
    "\n",
    "    oracion_destino = construir_oracion(oracion, etiquetas_origen, regla_gramatical, etiquetas_dict)\n",
    "    resultado_label.config(text=f\"Traducción: {oracion_destino}.\")\n",
    "\n",
    "\n"
   ]
  },
  {
   "cell_type": "code",
   "execution_count": 20,
   "metadata": {},
   "outputs": [
    {
     "name": "stderr",
     "output_type": "stream",
     "text": [
      "Exception in Tkinter callback\n",
      "Traceback (most recent call last):\n",
      "  File \"c:\\Users\\diego\\AppData\\Local\\Programs\\Python\\Python311\\Lib\\tkinter\\__init__.py\", line 1948, in __call__\n",
      "    return self.func(*args)\n",
      "           ^^^^^^^^^^^^^^^^\n",
      "  File \"C:\\Users\\diego\\AppData\\Local\\Temp\\ipykernel_356\\1236804631.py\", line 21, in traducir_palabra\n",
      "    print(f'Idioma Origen : {idioma_origen}')\n",
      "                             ^^^^^^^^^^^^^\n",
      "UnboundLocalError: cannot access local variable 'idioma_origen' where it is not associated with a value\n",
      "Exception in Tkinter callback\n",
      "Traceback (most recent call last):\n",
      "  File \"c:\\Users\\diego\\AppData\\Local\\Programs\\Python\\Python311\\Lib\\tkinter\\__init__.py\", line 1948, in __call__\n",
      "    return self.func(*args)\n",
      "           ^^^^^^^^^^^^^^^^\n",
      "  File \"C:\\Users\\diego\\AppData\\Local\\Temp\\ipykernel_356\\1236804631.py\", line 21, in traducir_palabra\n",
      "    print(f'Idioma Origen : {idioma_origen}')\n",
      "                             ^^^^^^^^^^^^^\n",
      "UnboundLocalError: cannot access local variable 'idioma_origen' where it is not associated with a value\n"
     ]
    }
   ],
   "source": [
    "\n",
    "traducir_button = tk.Button(root, text=\"Traducir\", command=traducir_palabra)\n",
    "traducir_button.place(x=130, y=90)\n",
    "\n",
    "root.mainloop()"
   ]
  }
 ],
 "metadata": {
  "kernelspec": {
   "display_name": "Python 3",
   "language": "python",
   "name": "python3"
  },
  "language_info": {
   "codemirror_mode": {
    "name": "ipython",
    "version": 3
   },
   "file_extension": ".py",
   "mimetype": "text/x-python",
   "name": "python",
   "nbconvert_exporter": "python",
   "pygments_lexer": "ipython3",
   "version": "3.11.0"
  }
 },
 "nbformat": 4,
 "nbformat_minor": 2
}
