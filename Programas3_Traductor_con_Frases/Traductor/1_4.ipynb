{
 "cells": [
  {
   "cell_type": "code",
   "execution_count": 3,
   "metadata": {},
   "outputs": [],
   "source": [
    "import tkinter as tk\n",
    "from tkinter import simpledialog, messagebox\n",
    "# import textdistance\n",
    "import json\n",
    "import csv"
   ]
  },
  {
   "cell_type": "code",
   "execution_count": 4,
   "metadata": {},
   "outputs": [],
   "source": [
    "# Lectura de archivos y creación de diccionarios\n",
    "\n",
    "with open(\"./Español.txt\", \"r\", encoding=\"utf-8\") as archivo1:\n",
    "    contenido_archivo1 = archivo1.read().splitlines()\n",
    "with open(\"./Ingles.txt\", \"r\", encoding=\"utf-8\") as archivo2:\n",
    "    contenido_archivo2 = archivo2.read().splitlines()\n",
    "\n",
    "diccionario_espanol_ingles = {palabra.lower(): traduccion.lower() for palabra, traduccion in zip(contenido_archivo1, contenido_archivo2)}\n",
    "diccionario_ingles_espanol = {palabra.lower(): traduccion.lower() for palabra, traduccion in zip(contenido_archivo2, contenido_archivo1)}\n"
   ]
  },
  {
   "cell_type": "code",
   "execution_count": 5,
   "metadata": {},
   "outputs": [],
   "source": [
    "root = tk.Tk()\n",
    "root.title(\"Traductor\")\n",
    "root.geometry(\"350x200\")\n",
    "\n",
    "palabra_label = tk.Label(root, text=\"Palabra:\")\n",
    "palabra_entry = tk.Entry(root)\n",
    "resultado_label = tk.Label(root, text=\"\")\n",
    "\n",
    "palabra_label.place(x=80, y=30)\n",
    "palabra_entry.place(x=140, y=30)\n",
    "resultado_label.place(x=40, y=100)\n",
    "\n"
   ]
  },
  {
   "cell_type": "code",
   "execution_count": 6,
   "metadata": {},
   "outputs": [],
   "source": [
    "# Cargar o inicializar el archivo de frecuencias\n",
    "def cargar_frecuencias():\n",
    "    try:\n",
    "        with open(\"frecuencias.json\", \"r\", encoding=\"utf-8\") as archivo:\n",
    "            return json.load(archivo)\n",
    "    except FileNotFoundError:\n",
    "        return {}\n",
    "\n",
    "def guardar_frecuencias(frecuencias):\n",
    "    with open(\"frecuencias.json\", \"w\", encoding=\"utf-8\") as archivo:\n",
    "        json.dump(frecuencias, archivo, ensure_ascii=False, indent=4)"
   ]
  },
  {
   "cell_type": "code",
   "execution_count": 7,
   "metadata": {},
   "outputs": [],
   "source": [
    "def agregar_etiqueta(palabra, idioma_origen, etiquetas):\n",
    "\n",
    "\n",
    "    if idioma_origen == 'español':\n",
    "        palabra_traducida = simpledialog.askstring(\"Entrada\", f\"Por favor, introduce la traducción en inglés para '{palabra}':\")\n",
    "        gramatica = simpledialog.askstring(\"Entrada\", f\"Por favor, introduce la etiqueta gramatical para '{palabra}':\")\n",
    "        etiquetas[palabra] = (palabra_traducida, gramatica)\n",
    "        etiquetas[palabra_traducida] = (palabra, gramatica)\n",
    "    else:\n",
    "        palabra_traducida = simpledialog.askstring(\"Entrada\", f\"Por favor, introduce la traducción en español para '{palabra}':\")\n",
    "        gramatica = simpledialog.askstring(\"Entrada\", f\"Por favor, introduce la etiqueta gramatical para '{palabra}':\")\n",
    "        etiquetas[palabra] = (palabra_traducida, gramatica)\n",
    "        etiquetas[palabra_traducida] = (palabra, gramatica)\n",
    "\n",
    "    with open('etiquetas.csv', 'a', newline='', encoding='utf-8') as csvfile:\n",
    "        writer = csv.writer(csvfile)\n",
    "        writer.writerow([palabra, palabra_traducida, gramatica])\n",
    "\n",
    "    return palabra_traducida, gramatica"
   ]
  },
  {
   "cell_type": "code",
   "execution_count": 8,
   "metadata": {},
   "outputs": [],
   "source": [
    "def cargar_etiquetas_csv(archivo):\n",
    "    etiquetas = {}\n",
    "    with open(archivo, newline='', encoding='utf-8') as csvfile:\n",
    "        reader = csv.reader(csvfile)\n",
    "        for row in reader:\n",
    "            if len(row) >= 3:  # Asegúrate de que la fila tenga al menos 3 elementos\n",
    "                palabra_ingles = row[0]\n",
    "                palabra_espanol = row[1]\n",
    "                gramatica = row[2]\n",
    "                etiquetas[palabra_ingles] = (palabra_espanol, gramatica)\n",
    "                etiquetas[palabra_espanol] = (palabra_ingles, gramatica) \n",
    "    return etiquetas\n"
   ]
  },
  {
   "cell_type": "code",
   "execution_count": 9,
   "metadata": {},
   "outputs": [],
   "source": [
    "def buscar_regla_gramatical(palabra, etiquetas,idioma_origen):\n",
    "\n",
    "    if palabra in etiquetas:\n",
    "        print(palabra)\n",
    "        traduccion, gramatica = etiquetas[palabra]\n",
    "        print(f'{traduccion} {gramatica}')\n",
    "        return traduccion, gramatica\n",
    "    else:\n",
    "        messagebox.showinfo(\"Sin coincidencias\", \"Agregando la palabra manualmente.\")\n",
    "        traduccion, gramatica = agregar_etiqueta(palabra, idioma_origen, etiquetas)\n",
    "        return traduccion, gramatica\n",
    "\n",
    "        "
   ]
  },
  {
   "cell_type": "code",
   "execution_count": 10,
   "metadata": {},
   "outputs": [],
   "source": [
    "def traducir_con_reglas(oracion, idioma_origen, etiquetas,archivo):\n",
    "\n",
    "    palabras = oracion.split()\n",
    "\n",
    "    traducion = []\n",
    "\n",
    "    for palabra in palabras:\n",
    "              \n",
    "        palabra_traducida, gramatica = buscar_regla_gramatical(palabra, etiquetas,idioma_origen)\n",
    "        etiquetas = cargar_etiquetas_csv(archivo)\n",
    "\n",
    "        traducion.append(palabra_traducida)\n",
    "\n",
    "    \n",
    "    return traducion        "
   ]
  },
  {
   "cell_type": "code",
   "execution_count": 11,
   "metadata": {},
   "outputs": [],
   "source": [
    "\n",
    "# Función para agregar una palabra manualmente al diccionario\n",
    "def agregar_palabra_manualmente(palabra):\n",
    "    traduccion_manual = simpledialog.askstring(\"Agregar palabra\", f\"Ingrese la traducción de '{palabra}':\", parent=root).lower()\n",
    "    if traduccion_manual:\n",
    "        with open(\"./Español.txt\", \"a\", encoding=\"utf-8\") as archivo1:\n",
    "            archivo1.write(\"\\n\" + palabra)\n",
    "        with open(\"./Ingles.txt\", \"a\", encoding=\"utf-8\") as archivo2:\n",
    "            archivo2.write(\"\\n\" + traduccion_manual)\n",
    "\n",
    "        messagebox.showinfo(\"Palabra agregada\", f\"La traducción de '{palabra}' ha sido agregada correctamente.\")\n",
    "\n",
    "        diccionario_espanol_ingles[palabra] = traduccion_manual\n",
    "        diccionario_ingles_espanol[traduccion_manual] = palabra\n",
    "\n",
    "        if palabra_entry.get().lower() == palabra:\n",
    "            resultado_label.config(text=f\"La traducción de '{palabra}' es '{traduccion_manual}'.\")\n"
   ]
  },
  {
   "cell_type": "code",
   "execution_count": 12,
   "metadata": {},
   "outputs": [],
   "source": [
    "# Inicializar las etiquetas y las frecuencias\n",
    "frecuencias = cargar_frecuencias()\n",
    "\n",
    "# Función para sugerir una traducción basada en la entrada del usuario\n",
    "def sugerir_traduccion(palabra, diccionario):\n",
    "\n",
    "    sugerencias = []\n",
    "    \n",
    "    for palabra_dicc in diccionario:\n",
    "        distancia = textdistance.levenshtein.normalized_distance(palabra, palabra_dicc)\n",
    "        if distancia < 0.4:\n",
    "            sugerencias.append((palabra_dicc, distancia))\n",
    "\n",
    "    # Ordenar las sugerencias por frecuencia (descendente) y luego por distancia (ascendente)\n",
    "    sugerencias.sort(key=lambda x: (-frecuencias.get(x[0], 0), x[1]))\n",
    "    return sugerencias"
   ]
  },
  {
   "cell_type": "code",
   "execution_count": 13,
   "metadata": {},
   "outputs": [],
   "source": [
    "# Función principal\n",
    "def traducir_palabra():\n",
    "\n",
    "    palabra = palabra_entry.get().lower()\n",
    "    palabras = palabra.split()\n",
    "    print(palabras)\n",
    "    if len(palabras) < 2:\n",
    "\n",
    "        if palabra in diccionario_espanol_ingles:\n",
    "            traduccion = diccionario_espanol_ingles[palabra]\n",
    "            resultado_label.config(text=f\"La traducción de '{palabra}' es '{traduccion}'.\")\n",
    "        elif palabra in diccionario_ingles_espanol:\n",
    "\n",
    "            traduccion = diccionario_ingles_espanol[palabra]\n",
    "            resultado_label.config(text=f\"La traducción de '{palabra}' es '{traduccion}'.\")\n",
    "        else:\n",
    "            sugerencias_espanol = sugerir_traduccion(palabra, diccionario_espanol_ingles)\n",
    "            sugerencias_ingles = sugerir_traduccion(palabra, diccionario_ingles_espanol)\n",
    "        \n",
    "            \n",
    "            # Depuración: Mostrar sugerencias y frecuencias antes de preguntar al usuario\n",
    "            print(\"Sugerencias ingles:\", [(sug, frecuencias.get(sug, 0)) for sug, _ in sugerencias_ingles])\n",
    "            print(\"Sugerencias español:\", [(sug, frecuencias.get(sug, 0)) for sug, _ in sugerencias_espanol])\n",
    "\n",
    "\n",
    "            if sugerencias_ingles or sugerencias_espanol:\n",
    "                for sug, _ in sugerencias_ingles + sugerencias_espanol:\n",
    "\n",
    "                    # Mostrar la frecuencia junto con la sugerencia\n",
    "                    frecuencia = frecuencias.get(sug, 0)\n",
    "                    respuesta = messagebox.askyesno(\"Sugerencia\", f\"¿Quisiste decir '{sug}'?\")\n",
    "\n",
    "                    if respuesta:\n",
    "                        frecuencias[sug] = frecuencia + 1\n",
    "                        guardar_frecuencias(frecuencias)\n",
    "                        return\n",
    "                messagebox.showinfo(\"Sin coincidencias\", \"Agregando la palabra manualmente.\")\n",
    "                agregar_palabra_manualmente(palabra)\n",
    "\n",
    "            else:\n",
    "\n",
    "                respuesta = messagebox.askyesno(\"No encontrada\", f\"La palabra '{palabra}' no se encontró en ninguno de los archivos.\\n¿Desea agregarla manualmente?\")\n",
    "                \n",
    "                if respuesta:\n",
    "                    agregar_palabra_manualmente(palabra)\n",
    "\n",
    "    elif len(palabras) >= 2: \n",
    "        \n",
    "        primera_palabra = palabras[0]\n",
    "       \n",
    "        if primera_palabra in diccionario_espanol_ingles:\n",
    "            traduccion = diccionario_espanol_ingles[primera_palabra]\n",
    "            idioma_origen = 'español'\n",
    "        elif primera_palabra in diccionario_ingles_espanol:\n",
    "            traduccion = diccionario_ingles_espanol[primera_palabra]\n",
    "            idioma_origen = 'ingles'\n",
    "          \n",
    "        print(f'Idioma Origen : {idioma_origen}')\n",
    "\n",
    "        archivo_csv = 'etiquetas.csv'\n",
    "        etiquetas = cargar_etiquetas_csv(archivo_csv)\n",
    "\n",
    "        traduccions = traducir_con_reglas(palabra, idioma_origen, etiquetas,archivo_csv)\n",
    "        oracion_traducida = \" \".join(traduccions)\n",
    "        resultado_label.config(text=f\"La traducción de '{palabra}' es '{oracion_traducida}'.\")\n",
    "        \n",
    "   \n",
    "    "
   ]
  },
  {
   "cell_type": "code",
   "execution_count": 14,
   "metadata": {},
   "outputs": [
    {
     "name": "stdout",
     "output_type": "stream",
     "text": [
      "['hola']\n",
      "['salchicha']\n"
     ]
    },
    {
     "name": "stderr",
     "output_type": "stream",
     "text": [
      "Exception in Tkinter callback\n",
      "Traceback (most recent call last):\n",
      "  File \"c:\\Users\\diego\\AppData\\Local\\Programs\\Python\\Python311\\Lib\\tkinter\\__init__.py\", line 1948, in __call__\n",
      "    return self.func(*args)\n",
      "           ^^^^^^^^^^^^^^^^\n",
      "  File \"C:\\Users\\diego\\AppData\\Local\\Temp\\ipykernel_32620\\3787914139.py\", line 17, in traducir_palabra\n",
      "    sugerencias_espanol = sugerir_traduccion(palabra, diccionario_espanol_ingles)\n",
      "                          ^^^^^^^^^^^^^^^^^^^^^^^^^^^^^^^^^^^^^^^^^^^^^^^^^^^^^^^\n",
      "  File \"C:\\Users\\diego\\AppData\\Local\\Temp\\ipykernel_32620\\3672124269.py\", line 10, in sugerir_traduccion\n",
      "    distancia = textdistance.levenshtein.normalized_distance(palabra, palabra_dicc)\n",
      "                ^^^^^^^^^^^^\n",
      "NameError: name 'textdistance' is not defined\n"
     ]
    },
    {
     "name": "stdout",
     "output_type": "stream",
     "text": [
      "['salchicha']\n"
     ]
    },
    {
     "name": "stderr",
     "output_type": "stream",
     "text": [
      "Exception in Tkinter callback\n",
      "Traceback (most recent call last):\n",
      "  File \"c:\\Users\\diego\\AppData\\Local\\Programs\\Python\\Python311\\Lib\\tkinter\\__init__.py\", line 1948, in __call__\n",
      "    return self.func(*args)\n",
      "           ^^^^^^^^^^^^^^^^\n",
      "  File \"C:\\Users\\diego\\AppData\\Local\\Temp\\ipykernel_32620\\3787914139.py\", line 17, in traducir_palabra\n",
      "    sugerencias_espanol = sugerir_traduccion(palabra, diccionario_espanol_ingles)\n",
      "                          ^^^^^^^^^^^^^^^^^^^^^^^^^^^^^^^^^^^^^^^^^^^^^^^^^^^^^^^\n",
      "  File \"C:\\Users\\diego\\AppData\\Local\\Temp\\ipykernel_32620\\3672124269.py\", line 10, in sugerir_traduccion\n",
      "    distancia = textdistance.levenshtein.normalized_distance(palabra, palabra_dicc)\n",
      "                ^^^^^^^^^^^^\n",
      "NameError: name 'textdistance' is not defined\n"
     ]
    },
    {
     "name": "stdout",
     "output_type": "stream",
     "text": [
      "['salchicha']\n"
     ]
    },
    {
     "name": "stderr",
     "output_type": "stream",
     "text": [
      "Exception in Tkinter callback\n",
      "Traceback (most recent call last):\n",
      "  File \"c:\\Users\\diego\\AppData\\Local\\Programs\\Python\\Python311\\Lib\\tkinter\\__init__.py\", line 1948, in __call__\n",
      "    return self.func(*args)\n",
      "           ^^^^^^^^^^^^^^^^\n",
      "  File \"C:\\Users\\diego\\AppData\\Local\\Temp\\ipykernel_32620\\3787914139.py\", line 17, in traducir_palabra\n",
      "    sugerencias_espanol = sugerir_traduccion(palabra, diccionario_espanol_ingles)\n",
      "                          ^^^^^^^^^^^^^^^^^^^^^^^^^^^^^^^^^^^^^^^^^^^^^^^^^^^^^^^\n",
      "  File \"C:\\Users\\diego\\AppData\\Local\\Temp\\ipykernel_32620\\3672124269.py\", line 10, in sugerir_traduccion\n",
      "    distancia = textdistance.levenshtein.normalized_distance(palabra, palabra_dicc)\n",
      "                ^^^^^^^^^^^^\n",
      "NameError: name 'textdistance' is not defined\n"
     ]
    },
    {
     "name": "stdout",
     "output_type": "stream",
     "text": [
      "['salchicha']\n",
      "['salchicha']\n"
     ]
    },
    {
     "name": "stderr",
     "output_type": "stream",
     "text": [
      "Exception in Tkinter callback\n",
      "Traceback (most recent call last):\n",
      "  File \"c:\\Users\\diego\\AppData\\Local\\Programs\\Python\\Python311\\Lib\\tkinter\\__init__.py\", line 1948, in __call__\n",
      "    return self.func(*args)\n",
      "           ^^^^^^^^^^^^^^^^\n",
      "  File \"C:\\Users\\diego\\AppData\\Local\\Temp\\ipykernel_32620\\3787914139.py\", line 17, in traducir_palabra\n",
      "    sugerencias_espanol = sugerir_traduccion(palabra, diccionario_espanol_ingles)\n",
      "                          ^^^^^^^^^^^^^^^^^^^^^^^^^^^^^^^^^^^^^^^^^^^^^^^^^^^^^^^\n",
      "  File \"C:\\Users\\diego\\AppData\\Local\\Temp\\ipykernel_32620\\3672124269.py\", line 10, in sugerir_traduccion\n",
      "    distancia = textdistance.levenshtein.normalized_distance(palabra, palabra_dicc)\n",
      "                ^^^^^^^^^^^^\n",
      "NameError: name 'textdistance' is not defined\n",
      "Exception in Tkinter callback\n",
      "Traceback (most recent call last):\n",
      "  File \"c:\\Users\\diego\\AppData\\Local\\Programs\\Python\\Python311\\Lib\\tkinter\\__init__.py\", line 1948, in __call__\n",
      "    return self.func(*args)\n",
      "           ^^^^^^^^^^^^^^^^\n",
      "  File \"C:\\Users\\diego\\AppData\\Local\\Temp\\ipykernel_32620\\3787914139.py\", line 17, in traducir_palabra\n",
      "    sugerencias_espanol = sugerir_traduccion(palabra, diccionario_espanol_ingles)\n",
      "                          ^^^^^^^^^^^^^^^^^^^^^^^^^^^^^^^^^^^^^^^^^^^^^^^^^^^^^^^\n",
      "  File \"C:\\Users\\diego\\AppData\\Local\\Temp\\ipykernel_32620\\3672124269.py\", line 10, in sugerir_traduccion\n",
      "    distancia = textdistance.levenshtein.normalized_distance(palabra, palabra_dicc)\n",
      "                ^^^^^^^^^^^^\n",
      "NameError: name 'textdistance' is not defined\n"
     ]
    },
    {
     "name": "stdout",
     "output_type": "stream",
     "text": [
      "['salchicha']\n",
      "['salchicha']\n"
     ]
    },
    {
     "name": "stderr",
     "output_type": "stream",
     "text": [
      "Exception in Tkinter callback\n",
      "Traceback (most recent call last):\n",
      "  File \"c:\\Users\\diego\\AppData\\Local\\Programs\\Python\\Python311\\Lib\\tkinter\\__init__.py\", line 1948, in __call__\n",
      "    return self.func(*args)\n",
      "           ^^^^^^^^^^^^^^^^\n",
      "  File \"C:\\Users\\diego\\AppData\\Local\\Temp\\ipykernel_32620\\3787914139.py\", line 17, in traducir_palabra\n",
      "    sugerencias_espanol = sugerir_traduccion(palabra, diccionario_espanol_ingles)\n",
      "                          ^^^^^^^^^^^^^^^^^^^^^^^^^^^^^^^^^^^^^^^^^^^^^^^^^^^^^^^\n",
      "  File \"C:\\Users\\diego\\AppData\\Local\\Temp\\ipykernel_32620\\3672124269.py\", line 10, in sugerir_traduccion\n",
      "    distancia = textdistance.levenshtein.normalized_distance(palabra, palabra_dicc)\n",
      "                ^^^^^^^^^^^^\n",
      "NameError: name 'textdistance' is not defined\n",
      "Exception in Tkinter callback\n",
      "Traceback (most recent call last):\n",
      "  File \"c:\\Users\\diego\\AppData\\Local\\Programs\\Python\\Python311\\Lib\\tkinter\\__init__.py\", line 1948, in __call__\n",
      "    return self.func(*args)\n",
      "           ^^^^^^^^^^^^^^^^\n",
      "  File \"C:\\Users\\diego\\AppData\\Local\\Temp\\ipykernel_32620\\3787914139.py\", line 17, in traducir_palabra\n",
      "    sugerencias_espanol = sugerir_traduccion(palabra, diccionario_espanol_ingles)\n",
      "                          ^^^^^^^^^^^^^^^^^^^^^^^^^^^^^^^^^^^^^^^^^^^^^^^^^^^^^^^\n",
      "  File \"C:\\Users\\diego\\AppData\\Local\\Temp\\ipykernel_32620\\3672124269.py\", line 10, in sugerir_traduccion\n",
      "    distancia = textdistance.levenshtein.normalized_distance(palabra, palabra_dicc)\n",
      "                ^^^^^^^^^^^^\n",
      "NameError: name 'textdistance' is not defined\n"
     ]
    }
   ],
   "source": [
    "\n",
    "traducir_button = tk.Button(root, text=\"Traducir\", command=traducir_palabra)\n",
    "traducir_button.place(x=130, y=60)\n",
    "\n",
    "root.mainloop()"
   ]
  }
 ],
 "metadata": {
  "kernelspec": {
   "display_name": "Python 3",
   "language": "python",
   "name": "python3"
  },
  "language_info": {
   "codemirror_mode": {
    "name": "ipython",
    "version": 3
   },
   "file_extension": ".py",
   "mimetype": "text/x-python",
   "name": "python",
   "nbconvert_exporter": "python",
   "pygments_lexer": "ipython3",
   "version": "3.11.0"
  }
 },
 "nbformat": 4,
 "nbformat_minor": 2
}
